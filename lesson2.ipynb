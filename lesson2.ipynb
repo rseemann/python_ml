{
 "cells": [
  {
   "cell_type": "code",
   "execution_count": 259,
   "metadata": {
    "collapsed": true
   },
   "outputs": [],
   "source": [
    "import quandl, math\n",
    "import numpy as np\n",
    "import pandas as pd\n",
    "from sklearn import preprocessing, cross_validation, svm\n",
    "from sklearn.linear_model import LinearRegression"
   ]
  },
  {
   "cell_type": "code",
   "execution_count": 275,
   "metadata": {},
   "outputs": [
    {
     "data": {
      "text/plain": [
       "['',\n",
       " '/Users/seemann/.pyenv/versions/3.5.3/lib/python35.zip',\n",
       " '/Users/seemann/.pyenv/versions/3.5.3/lib/python3.5',\n",
       " '/Users/seemann/.pyenv/versions/3.5.3/lib/python3.5/plat-darwin',\n",
       " '/Users/seemann/.pyenv/versions/3.5.3/lib/python3.5/lib-dynload',\n",
       " '/Users/seemann/.pyenv/versions/3.5.3/lib/python3.5/site-packages',\n",
       " '/Users/seemann/.pyenv/versions/3.5.3/lib/python3.5/site-packages/IPython/extensions',\n",
       " '/Users/seemann/.ipython']"
      ]
     },
     "execution_count": 275,
     "metadata": {},
     "output_type": "execute_result"
    }
   ],
   "source": [
    "import sys\n",
    "sys.path "
   ]
  },
  {
   "cell_type": "code",
   "execution_count": 261,
   "metadata": {
    "collapsed": true
   },
   "outputs": [],
   "source": [
    "df = quandl.get('WIKI/GOOGL')\n",
    "# df = quandl.get('WIKI/GM')"
   ]
  },
  {
   "cell_type": "code",
   "execution_count": 262,
   "metadata": {},
   "outputs": [
    {
     "name": "stdout",
     "output_type": "stream",
     "text": [
      "              Open    High     Low    Close      Volume  Ex-Dividend  \\\n",
      "Date                                                                   \n",
      "2004-08-19  100.01  104.06   95.96  100.335  44659000.0          0.0   \n",
      "2004-08-20  101.01  109.08  100.50  108.310  22834300.0          0.0   \n",
      "2004-08-23  110.76  113.48  109.05  109.400  18256100.0          0.0   \n",
      "2004-08-24  111.24  111.60  103.57  104.870  15247300.0          0.0   \n",
      "2004-08-25  104.76  108.00  103.88  106.000   9188600.0          0.0   \n",
      "\n",
      "            Split Ratio  Adj. Open  Adj. High   Adj. Low  Adj. Close  \\\n",
      "Date                                                                   \n",
      "2004-08-19          1.0  50.159839  52.191109  48.128568   50.322842   \n",
      "2004-08-20          1.0  50.661387  54.708881  50.405597   54.322689   \n",
      "2004-08-23          1.0  55.551482  56.915693  54.693835   54.869377   \n",
      "2004-08-24          1.0  55.792225  55.972783  51.945350   52.597363   \n",
      "2004-08-25          1.0  52.542193  54.167209  52.100830   53.164113   \n",
      "\n",
      "            Adj. Volume  \n",
      "Date                     \n",
      "2004-08-19   44659000.0  \n",
      "2004-08-20   22834300.0  \n",
      "2004-08-23   18256100.0  \n",
      "2004-08-24   15247300.0  \n",
      "2004-08-25    9188600.0  \n",
      "              Open      High     Low   Close     Volume  Ex-Dividend  \\\n",
      "Date                                                                   \n",
      "2017-04-26  891.39  892.9900  885.15  889.14  1302032.0          0.0   \n",
      "2017-04-27  890.00  893.3774  887.18  891.44  1817740.0          0.0   \n",
      "2017-04-28  929.00  935.9000  923.22  924.52  3753169.0          0.0   \n",
      "2017-05-01  924.15  935.8200  920.80  932.82  2294856.0          0.0   \n",
      "2017-05-02  933.27  942.9850  931.00  937.09  1745453.0          0.0   \n",
      "\n",
      "            Split Ratio  Adj. Open  Adj. High  Adj. Low  Adj. Close  \\\n",
      "Date                                                                  \n",
      "2017-04-26          1.0     891.39   892.9900    885.15      889.14   \n",
      "2017-04-27          1.0     890.00   893.3774    887.18      891.44   \n",
      "2017-04-28          1.0     929.00   935.9000    923.22      924.52   \n",
      "2017-05-01          1.0     924.15   935.8200    920.80      932.82   \n",
      "2017-05-02          1.0     933.27   942.9850    931.00      937.09   \n",
      "\n",
      "            Adj. Volume  \n",
      "Date                     \n",
      "2017-04-26    1302032.0  \n",
      "2017-04-27    1817740.0  \n",
      "2017-04-28    3753169.0  \n",
      "2017-05-01    2294856.0  \n",
      "2017-05-02    1745453.0  \n"
     ]
    }
   ],
   "source": [
    "print(df.head())\n",
    "# print()\n",
    "print(df.tail())\n",
    "\n",
    "# df = df[['Adj. Open',  'Adj. High',  'Adj. Low',  'Adj. Close', 'Adj. Volume']]\n",
    "# print(df.head())\n"
   ]
  },
  {
   "cell_type": "code",
   "execution_count": 263,
   "metadata": {
    "collapsed": true
   },
   "outputs": [],
   "source": [
    "df['HL_PCT'] = (df['Adj. High'] - df['Adj. Low']) / df['Adj. Close'] * 100.0\n",
    "df['PCT_change'] = (df['Adj. Close'] - df['Adj. Open']) / df['Adj. Open'] * 100.0"
   ]
  },
  {
   "cell_type": "code",
   "execution_count": 264,
   "metadata": {},
   "outputs": [
    {
     "name": "stdout",
     "output_type": "stream",
     "text": [
      "            Adj. Close    HL_PCT  PCT_change  Adj. Volume\n",
      "Date                                                     \n",
      "2004-08-19   50.322842  8.072956    0.324968   44659000.0\n",
      "2004-08-20   54.322689  7.921706    7.227007   22834300.0\n",
      "2004-08-23   54.869377  4.049360   -1.227880   18256100.0\n",
      "2004-08-24   52.597363  7.657099   -5.726357   15247300.0\n",
      "2004-08-25   53.164113  3.886792    1.183658    9188600.0\n"
     ]
    }
   ],
   "source": [
    "df = df[['Adj. Close', 'HL_PCT', 'PCT_change', 'Adj. Volume']]\n",
    "print(df.head())"
   ]
  },
  {
   "cell_type": "code",
   "execution_count": 265,
   "metadata": {
    "collapsed": true
   },
   "outputs": [],
   "source": [
    "forecast_col = 'Adj. Close'\n",
    "df.fillna(value=-99999, inplace=True)\n",
    "forecast_out = int(math.ceil(0.01 * len(df)))\n",
    "# forecast_out = 5"
   ]
  },
  {
   "cell_type": "code",
   "execution_count": 266,
   "metadata": {},
   "outputs": [
    {
     "name": "stdout",
     "output_type": "stream",
     "text": [
      "            Adj. Close    HL_PCT  PCT_change  Adj. Volume      label\n",
      "Date                                                                \n",
      "2004-08-19   50.322842  8.072956    0.324968   44659000.0  69.399229\n",
      "2004-08-20   54.322689  7.921706    7.227007   22834300.0  68.752232\n",
      "2004-08-23   54.869377  4.049360   -1.227880   18256100.0  69.639972\n",
      "2004-08-24   52.597363  7.657099   -5.726357   15247300.0  69.078238\n",
      "2004-08-25   53.164113  3.886792    1.183658    9188600.0  67.839414\n"
     ]
    }
   ],
   "source": [
    "df['label'] = df[forecast_col].shift(-forecast_out)\n",
    "\n",
    "print(df.head())"
   ]
  },
  {
   "cell_type": "code",
   "execution_count": 267,
   "metadata": {
    "collapsed": true
   },
   "outputs": [],
   "source": [
    "X = np.array(df.drop(['label'], 1))\n",
    "X = preprocessing.scale(X)\n",
    "X_lately = X[-forecast_out:]\n",
    "X = X[:-forecast_out]\n",
    "\n",
    "df.dropna(inplace=True)\n",
    "\n",
    "y = np.array(df['label'])"
   ]
  },
  {
   "cell_type": "code",
   "execution_count": 268,
   "metadata": {
    "collapsed": true
   },
   "outputs": [],
   "source": [
    "X_train, X_test, y_train, y_test = cross_validation.train_test_split(X, y, test_size=0.2)"
   ]
  },
  {
   "cell_type": "code",
   "execution_count": 269,
   "metadata": {},
   "outputs": [
    {
     "name": "stdout",
     "output_type": "stream",
     "text": [
      "linear 0.971946432475\n",
      "poly 0.729829418192\n",
      "rbf 0.817405130773\n",
      "sigmoid 0.888919722667\n"
     ]
    }
   ],
   "source": [
    "for k in ['linear','poly','rbf','sigmoid']:\n",
    "    clf = svm.SVR(kernel=k)\n",
    "    clf.fit(X_train, y_train)\n",
    "    accuracySRV = clf.score(X_test, y_test)\n",
    "    print(k,accuracySRV)"
   ]
  },
  {
   "cell_type": "code",
   "execution_count": 270,
   "metadata": {},
   "outputs": [
    {
     "data": {
      "text/plain": [
       "0.97208416512129581"
      ]
     },
     "execution_count": 270,
     "metadata": {},
     "output_type": "execute_result"
    }
   ],
   "source": [
    "clf = LinearRegression(n_jobs=-1)\n",
    "clf.fit(X_train, y_train)\n",
    "\n",
    "accuracyLR = clf.score(X_test, y_test)\n",
    "accuracyLR"
   ]
  },
  {
   "cell_type": "code",
   "execution_count": 271,
   "metadata": {},
   "outputs": [
    {
     "name": "stdout",
     "output_type": "stream",
     "text": [
      "            Adj. Close    HL_PCT  PCT_change  Adj. Volume   label\n",
      "Date                                                             \n",
      "2017-03-10     861.405  0.768396   -0.150110    1336585.0  889.14\n",
      "2017-03-13     864.580  0.729834    0.435626    1166605.0  891.44\n",
      "2017-03-14     865.910  0.860367    0.250072    1061692.0  924.52\n",
      "2017-03-15     868.390  0.988611    0.051847    1332885.0  932.82\n",
      "2017-03-16     870.000  0.596552   -0.060882    1104452.0  937.09\n",
      "[ 882.1059747   877.80187472  858.36649167  859.6435492   848.76173447\n",
      "  844.29028199  847.65493817  850.13681799  859.59216095  859.66515543\n",
      "  857.87600537  866.18916587  862.61026407  858.2498299   854.78829052\n",
      "  852.02954865  851.83407731  849.77861022  851.5615189   850.30736395\n",
      "  864.74922873  864.12879041  866.54538122  870.08591762  869.06280209\n",
      "  888.2930542   898.09578113  898.93713588  901.15007039  933.02122621\n",
      "  941.77142279  946.39343044] 0.972084165121 32\n"
     ]
    }
   ],
   "source": [
    "forecast_set = clf.predict(X_lately)\n",
    "print(df.dropna().tail())\n",
    "print(forecast_set, accuracyLR, forecast_out)"
   ]
  },
  {
   "cell_type": "code",
   "execution_count": 272,
   "metadata": {
    "collapsed": true
   },
   "outputs": [],
   "source": [
    "import datetime\n",
    "import matplotlib.pyplot as plt\n",
    "from matplotlib import style\n",
    "\n",
    "style.use('ggplot')"
   ]
  },
  {
   "cell_type": "code",
   "execution_count": 273,
   "metadata": {
    "collapsed": true
   },
   "outputs": [],
   "source": [
    "df['Forecast'] = np.nan\n",
    "\n",
    "last_date = df.iloc[-1].name\n",
    "last_unix = last_date.timestamp()\n",
    "one_day = 86400\n",
    "next_unix = last_unix + one_day\n",
    "\n",
    "for i in forecast_set:\n",
    "    next_date = datetime.datetime.fromtimestamp(next_unix)\n",
    "    next_unix += 86400\n",
    "    df.loc[next_date] = [np.nan for _ in range(len(df.columns)-1)]+[i]"
   ]
  },
  {
   "cell_type": "code",
   "execution_count": 274,
   "metadata": {},
   "outputs": [
    {
     "data": {
      "image/png": "[encoded data removed]",
      "text/plain": [
       "<matplotlib.figure.Figure at 0x10972f160>"
      ]
     },
     "metadata": {},
     "output_type": "display_data"
    }
   ],
   "source": [
    "df['Adj. Close'].plot()\n",
    "df['Forecast'].plot()\n",
    "plt.legend(loc=4)\n",
    "plt.xlabel('Date')\n",
    "plt.ylabel('Price')\n",
    "plt.show()"
   ]
  }
 ],
 "metadata": {
  "kernelspec": {
   "display_name": "Python 3",
   "language": "python",
   "name": "python3"
  },
  "language_info": {
   "codemirror_mode": {
    "name": "ipython",
    "version": 3
   },
   "file_extension": ".py",
   "mimetype": "text/x-python",
   "name": "python",
   "nbconvert_exporter": "python",
   "pygments_lexer": "ipython3",
   "version": "3.5.3"
  }
 },
 "nbformat": 4,
 "nbformat_minor": 2
}
