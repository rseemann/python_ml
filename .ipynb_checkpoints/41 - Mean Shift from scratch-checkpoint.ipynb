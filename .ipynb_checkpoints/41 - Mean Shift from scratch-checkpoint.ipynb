{
 "cells": [
  {
   "cell_type": "code",
   "execution_count": 2,
   "metadata": {
    "collapsed": true
   },
   "outputs": [],
   "source": [
    "import matplotlib.pyplot as plt\n",
    "from matplotlib import style\n",
    "style.use('ggplot')\n",
    "import numpy as np"
   ]
  },
  {
   "cell_type": "code",
   "execution_count": 5,
   "metadata": {},
   "outputs": [
    {
     "data": {
      "image/png": "[encoded data removed]",
      "text/plain": [
       "<matplotlib.figure.Figure at 0x113cf9a20>"
      ]
     },
     "metadata": {},
     "output_type": "display_data"
    }
   ],
   "source": [
    "X = np.array([[1, 2],\n",
    "              [1.5, 1.8],\n",
    "              [5, 8 ],\n",
    "              [8, 8],\n",
    "              [1, 0.6],\n",
    "              [9,11],\n",
    "              [8,2],\n",
    "              [10,2],\n",
    "              [9,3],])\n",
    "\n",
    "plt.scatter(X[:,0], X[:,1], s=150)\n",
    "plt.show()\n",
    "\n",
    "colors = 10*[\"g\",\"r\",\"c\",\"b\",\"k\"]"
   ]
  },
  {
   "cell_type": "code",
   "execution_count": null,
   "metadata": {
    "collapsed": true
   },
   "outputs": [],
   "source": [
    "class Mean_Shift:\n",
    "    def __init__(self, radius=4):\n",
    "        self.radius = radius\n",
    "        \n",
    "    def fit(self, data):\n",
    "        centroids = {}\n",
    "\n",
    "        for i in range(len(data)):\n",
    "            centroids[i] = data[i]\n",
    "\n",
    "        optimized = False\n",
    "\n",
    "        while !optimized:\n",
    "            new_centroids = []\n",
    "\n",
    "            for i in centroids:\n",
    "                in_bandwidth = []\n",
    "                centroid = centroids[i]\n",
    "\n",
    "                for featureset in data:\n",
    "                    if np.linalg.norm(featureset-centroid) < self.radius:\n",
    "                        in_bandwidth.append(featureset)\n",
    "\n",
    "                new_centroid = np.average(in_bandwidth,axis=0)\n",
    "                new_centroids.append(tuple(new_centroid))\n",
    "\n",
    "            uniques = sorted(list(set(new_centroids)))\n",
    "            prev_centroids = dict(centroids)\n",
    "            \n",
    "            centroids = {}\n",
    "            for i in range(len(uniques)):\n",
    "                centroids[i] = np.array(uniques[i])\n",
    "\n",
    "            if all(for i in centroids return np.array_equal(centroids[i], prev_centroids[i])):\n",
    "                optimized = True\n",
    "            \n",
    "        self.centroids = centroids\n",
    "                \n",
    "            "
   ]
  }
 ],
 "metadata": {
  "kernelspec": {
   "display_name": "Python 3",
   "language": "python",
   "name": "python3"
  },
  "language_info": {
   "codemirror_mode": {
    "name": "ipython",
    "version": 3
   },
   "file_extension": ".py",
   "mimetype": "text/x-python",
   "name": "python",
   "nbconvert_exporter": "python",
   "pygments_lexer": "ipython3",
   "version": "3.5.3"
  }
 },
 "nbformat": 4,
 "nbformat_minor": 2
}
