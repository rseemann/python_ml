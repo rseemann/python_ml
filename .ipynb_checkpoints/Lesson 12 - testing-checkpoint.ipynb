{
 "cells": [
  {
   "cell_type": "code",
   "execution_count": 111,
   "metadata": {
    "collapsed": true
   },
   "outputs": [],
   "source": [
    "from statistics import mean\n",
    "import numpy as np\n",
    "import random\n",
    "import matplotlib.pyplot as plt\n",
    "from matplotlib import style\n",
    "style.use('ggplot')"
   ]
  },
  {
   "cell_type": "code",
   "execution_count": 112,
   "metadata": {
    "collapsed": true
   },
   "outputs": [],
   "source": [
    "def best_fit_slope_and_intercept(xs,ys):\n",
    "    m = (((mean(xs)*mean(ys)) - mean(xs*ys)) /\n",
    "         ((mean(xs)**2) - mean(xs**2)))\n",
    "    \n",
    "    b = mean(ys) - m*mean(xs)\n",
    "        \n",
    "    return m, b\n",
    "\n",
    "def squared_error(ys_orig,ys_line):\n",
    "    return sum((ys_line - ys_orig)** 2)\n",
    "\n",
    "def coefficient_of_determination(ys_orig,ys_line):\n",
    "    y_mean_line = [mean(ys_orig) for y in ys_orig]\n",
    "    \n",
    "    squared_error_regr = squared_error(ys_orig, ys_line)\n",
    "    squared_error_y_mean = squared_error(ys_orig, y_mean_line)\n",
    "    \n",
    "    return 1 - (squared_error_regr/squared_error_y_mean)\n",
    "\n",
    "def create_dataset(hm, variance, step=2, correlation=False):\n",
    "    value = 1\n",
    "    ys = []\n",
    "    \n",
    "    for i in range(hm):\n",
    "        y = value + random.randrange(-variance, variance)\n",
    "        ys.append(y)\n",
    "        \n",
    "        if correlation and correlation == 'pos':\n",
    "            value += step\n",
    "        elif correlation and correlation == 'neg':\n",
    "            value -= step\n",
    "            \n",
    "    xs = [i for i in range(hm)]\n",
    "            \n",
    "    return np.array(xs, dtype=np.float64), np.array(ys, dtype=np.float64)"
   ]
  },
  {
   "cell_type": "code",
   "execution_count": 113,
   "metadata": {
    "collapsed": true
   },
   "outputs": [],
   "source": [
    "def scatter_plot(x, y, regression_line):\n",
    "    plt.scatter(x, y, color='#003F72', label = 'data')\n",
    "    plt.plot(xs, regression_line, label = 'regression line')\n",
    "    plt.legend(loc=4)\n",
    "    plt.show()"
   ]
  },
  {
   "cell_type": "code",
   "execution_count": 114,
   "metadata": {
    "collapsed": true
   },
   "outputs": [],
   "source": [
    "def create_dataset_and_plot_coefficient(hm, variance, step, correlation):\n",
    "    xs, ys = create_dataset(hm, variance, step, correlation=correlation)\n",
    "    m, b = best_fit_slope_and_intercept(xs,ys)\n",
    "    regression_line = [(m*x)+b for x in xs]\n",
    "    r_squared = coefficient_of_determination(ys,regression_line)\n",
    "    print(r_squared)\n",
    "\n",
    "    scatter_plot(xs, ys, regression_line)"
   ]
  },
  {
   "cell_type": "code",
   "execution_count": 115,
   "metadata": {
    "collapsed": true
   },
   "outputs": [],
   "source": [
    "# create_dataset_and_plot_coefficient(40, 40, 2, correlation='pos')"
   ]
  },
  {
   "cell_type": "code",
   "execution_count": 116,
   "metadata": {
    "collapsed": true
   },
   "outputs": [],
   "source": [
    "# create_dataset_and_plot_coefficient(40, 10, 2, correlation='pos')"
   ]
  },
  {
   "cell_type": "code",
   "execution_count": 117,
   "metadata": {},
   "outputs": [
    {
     "name": "stdout",
     "output_type": "stream",
     "text": [
      "3.12804878049 -2.09502814259\n",
      "0.942172988665\n"
     ]
    },
    {
     "data": {
      "image/png": "[encoded data removed]",
      "text/plain": [
       "<matplotlib.figure.Figure at 0x106bf56a0>"
      ]
     },
     "metadata": {},
     "output_type": "display_data"
    }
   ],
   "source": [
    "create_dataset_and_plot_coefficient(40, 10, 2, correlation='neg')"
   ]
  }
 ],
 "metadata": {
  "kernelspec": {
   "display_name": "Python 3",
   "language": "python",
   "name": "python3"
  },
  "language_info": {
   "codemirror_mode": {
    "name": "ipython",
    "version": 3
   },
   "file_extension": ".py",
   "mimetype": "text/x-python",
   "name": "python",
   "nbconvert_exporter": "python",
   "pygments_lexer": "ipython3",
   "version": "3.5.3"
  }
 },
 "nbformat": 4,
 "nbformat_minor": 2
}
