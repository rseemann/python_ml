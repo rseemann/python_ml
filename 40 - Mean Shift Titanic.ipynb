{
 "cells": [
  {
   "cell_type": "code",
   "execution_count": 1,
   "metadata": {},
   "outputs": [
    {
     "name": "stderr",
     "output_type": "stream",
     "text": [
      "/Users/seemann/.pyenv/versions/3.5.3/lib/python3.5/site-packages/sklearn/cross_validation.py:44: DeprecationWarning: This module was deprecated in version 0.18 in favor of the model_selection module into which all the refactored classes and functions are moved. Also note that the interface of the new CV iterators are different from that of this module. This module will be removed in 0.20.\n",
      "  \"This module will be removed in 0.20.\", DeprecationWarning)\n"
     ]
    }
   ],
   "source": [
    "import numpy as np\n",
    "from sklearn.cluster import MeanShift, KMeans\n",
    "from sklearn import preprocessing, cross_validation\n",
    "import pandas as pd\n",
    "import matplotlib.pyplot as plt"
   ]
  },
  {
   "cell_type": "code",
   "execution_count": 2,
   "metadata": {
    "collapsed": true
   },
   "outputs": [],
   "source": [
    "# https://pythonprogramming.net/static/downloads/machine-learning-data/titanic.xls\n",
    "df = pd.read_excel('titanic.xls')\n",
    "\n",
    "original_df = pd.DataFrame.copy(df)\n",
    "df.drop(['body','name'], 1, inplace=True)\n",
    "df.fillna(0,inplace=True)"
   ]
  },
  {
   "cell_type": "code",
   "execution_count": 3,
   "metadata": {
    "collapsed": true
   },
   "outputs": [],
   "source": [
    "def handle_non_numerical_data(df):\n",
    "    \n",
    "    # handling non-numerical data: must convert.\n",
    "    columns = df.columns.values\n",
    "\n",
    "    for column in columns:\n",
    "        text_digit_vals = {}\n",
    "        def convert_to_int(val):\n",
    "            return text_digit_vals[val]\n",
    "\n",
    "        #print(column,df[column].dtype)\n",
    "        if df[column].dtype != np.int64 and df[column].dtype != np.float64:\n",
    "            \n",
    "            column_contents = df[column].values.tolist()\n",
    "            #finding just the uniques\n",
    "            unique_elements = set(column_contents)\n",
    "            # great, found them. \n",
    "            x = 0\n",
    "            for unique in unique_elements:\n",
    "                if unique not in text_digit_vals:\n",
    "                    # creating dict that contains new\n",
    "                    # id per unique string\n",
    "                    text_digit_vals[unique] = x\n",
    "                    x+=1\n",
    "            # now we map the new \"id\" vlaue\n",
    "            # to replace the string. \n",
    "            df[column] = list(map(convert_to_int,df[column]))\n",
    "\n",
    "    return df"
   ]
  },
  {
   "cell_type": "code",
   "execution_count": 4,
   "metadata": {
    "collapsed": true
   },
   "outputs": [],
   "source": [
    "df = handle_non_numerical_data(df)\n",
    "df.drop(['ticket','home.dest'], 1, inplace=True)"
   ]
  },
  {
   "cell_type": "code",
   "execution_count": 5,
   "metadata": {},
   "outputs": [
    {
     "data": {
      "text/html": [
       "<div>\n",
       "<table border=\"1\" class=\"dataframe\">\n",
       "  <thead>\n",
       "    <tr style=\"text-align: right;\">\n",
       "      <th></th>\n",
       "      <th>pclass</th>\n",
       "      <th>survived</th>\n",
       "      <th>sex</th>\n",
       "      <th>age</th>\n",
       "      <th>sibsp</th>\n",
       "      <th>parch</th>\n",
       "      <th>fare</th>\n",
       "      <th>cabin</th>\n",
       "      <th>embarked</th>\n",
       "      <th>boat</th>\n",
       "    </tr>\n",
       "  </thead>\n",
       "  <tbody>\n",
       "    <tr>\n",
       "      <th>0</th>\n",
       "      <td>1</td>\n",
       "      <td>1</td>\n",
       "      <td>1</td>\n",
       "      <td>29.0000</td>\n",
       "      <td>0</td>\n",
       "      <td>0</td>\n",
       "      <td>211.3375</td>\n",
       "      <td>168</td>\n",
       "      <td>3</td>\n",
       "      <td>1</td>\n",
       "    </tr>\n",
       "    <tr>\n",
       "      <th>1</th>\n",
       "      <td>1</td>\n",
       "      <td>1</td>\n",
       "      <td>0</td>\n",
       "      <td>0.9167</td>\n",
       "      <td>1</td>\n",
       "      <td>2</td>\n",
       "      <td>151.5500</td>\n",
       "      <td>39</td>\n",
       "      <td>3</td>\n",
       "      <td>6</td>\n",
       "    </tr>\n",
       "    <tr>\n",
       "      <th>2</th>\n",
       "      <td>1</td>\n",
       "      <td>0</td>\n",
       "      <td>1</td>\n",
       "      <td>2.0000</td>\n",
       "      <td>1</td>\n",
       "      <td>2</td>\n",
       "      <td>151.5500</td>\n",
       "      <td>39</td>\n",
       "      <td>3</td>\n",
       "      <td>0</td>\n",
       "    </tr>\n",
       "    <tr>\n",
       "      <th>3</th>\n",
       "      <td>1</td>\n",
       "      <td>0</td>\n",
       "      <td>0</td>\n",
       "      <td>30.0000</td>\n",
       "      <td>1</td>\n",
       "      <td>2</td>\n",
       "      <td>151.5500</td>\n",
       "      <td>39</td>\n",
       "      <td>3</td>\n",
       "      <td>0</td>\n",
       "    </tr>\n",
       "    <tr>\n",
       "      <th>4</th>\n",
       "      <td>1</td>\n",
       "      <td>0</td>\n",
       "      <td>1</td>\n",
       "      <td>25.0000</td>\n",
       "      <td>1</td>\n",
       "      <td>2</td>\n",
       "      <td>151.5500</td>\n",
       "      <td>39</td>\n",
       "      <td>3</td>\n",
       "      <td>0</td>\n",
       "    </tr>\n",
       "  </tbody>\n",
       "</table>\n",
       "</div>"
      ],
      "text/plain": [
       "   pclass  survived  sex      age  sibsp  parch      fare  cabin  embarked  \\\n",
       "0       1         1    1  29.0000      0      0  211.3375    168         3   \n",
       "1       1         1    0   0.9167      1      2  151.5500     39         3   \n",
       "2       1         0    1   2.0000      1      2  151.5500     39         3   \n",
       "3       1         0    0  30.0000      1      2  151.5500     39         3   \n",
       "4       1         0    1  25.0000      1      2  151.5500     39         3   \n",
       "\n",
       "   boat  \n",
       "0     1  \n",
       "1     6  \n",
       "2     0  \n",
       "3     0  \n",
       "4     0  "
      ]
     },
     "execution_count": 5,
     "metadata": {},
     "output_type": "execute_result"
    }
   ],
   "source": [
    "df.head()"
   ]
  },
  {
   "cell_type": "code",
   "execution_count": 6,
   "metadata": {},
   "outputs": [
    {
     "data": {
      "text/plain": [
       "MeanShift(bandwidth=None, bin_seeding=False, cluster_all=True, min_bin_freq=1,\n",
       "     n_jobs=1, seeds=None)"
      ]
     },
     "execution_count": 6,
     "metadata": {},
     "output_type": "execute_result"
    }
   ],
   "source": [
    "X = np.array(df.drop(['survived'], 1).astype(float))\n",
    "X = preprocessing.scale(X)\n",
    "y = np.array(df['survived'])\n",
    "\n",
    "clf = MeanShift()\n",
    "clf.fit(X)"
   ]
  },
  {
   "cell_type": "code",
   "execution_count": 9,
   "metadata": {},
   "outputs": [
    {
     "name": "stderr",
     "output_type": "stream",
     "text": [
      "/Users/seemann/.pyenv/versions/3.5.3/lib/python3.5/site-packages/pandas/core/indexing.py:141: SettingWithCopyWarning: \n",
      "A value is trying to be set on a copy of a slice from a DataFrame\n",
      "\n",
      "See the caveats in the documentation: http://pandas.pydata.org/pandas-docs/stable/indexing.html#indexing-view-versus-copy\n",
      "  self._setitem_with_indexer(indexer, value)\n"
     ]
    }
   ],
   "source": [
    "labels = clf.labels_\n",
    "cluster_centers = clf.cluster_centers_\n",
    "\n",
    "# print(len(set(labels)), cluster_centers)\n",
    "\n",
    "original_df['cluster_group']=np.nan\n",
    "\n",
    "for i in range(len(X)):\n",
    "    original_df['cluster_group'].iloc[i] = labels[i]"
   ]
  },
  {
   "cell_type": "code",
   "execution_count": 11,
   "metadata": {},
   "outputs": [
    {
     "name": "stdout",
     "output_type": "stream",
     "text": [
      "{0: 0.36910569105691055, 1: 0.6140350877192983, 2: 1.0, 3: 0.6666666666666666, 4: 0.1}\n"
     ]
    }
   ],
   "source": [
    "n_clusters_ = len(np.unique(labels))\n",
    "survival_rates = {}\n",
    "for i in range(n_clusters_):\n",
    "    temp_df = original_df[ (original_df['cluster_group']==float(i)) ]\n",
    "    #print(temp_df.head())\n",
    "\n",
    "    survival_cluster = temp_df[  (temp_df['survived'] == 1) ]\n",
    "\n",
    "    survival_rate = len(survival_cluster) / len(temp_df)\n",
    "    #print(i,survival_rate)\n",
    "    survival_rates[i] = survival_rate\n",
    "    \n",
    "print(survival_rates)"
   ]
  },
  {
   "cell_type": "code",
   "execution_count": 21,
   "metadata": {},
   "outputs": [
    {
     "name": "stdout",
     "output_type": "stream",
     "text": [
      "       pclass  survived        age  sibsp     parch        fare  body  \\\n",
      "count     6.0       6.0   6.000000    6.0  6.000000    6.000000   0.0   \n",
      "mean      1.0       1.0  40.833333    0.0  0.333333  429.011133   NaN   \n",
      "std       0.0       0.0   9.239408    0.0  0.516398  129.075794   NaN   \n",
      "min       1.0       1.0  35.000000    0.0  0.000000  262.375000   NaN   \n",
      "25%       1.0       1.0  35.250000    0.0  0.000000  324.863550   NaN   \n",
      "50%       1.0       1.0  36.000000    0.0  0.000000  512.329200   NaN   \n",
      "75%       1.0       1.0  42.750000    0.0  0.750000  512.329200   NaN   \n",
      "max       1.0       1.0  58.000000    0.0  1.000000  512.329200   NaN   \n",
      "\n",
      "       cluster_group  \n",
      "count            6.0  \n",
      "mean             2.0  \n",
      "std              0.0  \n",
      "min              2.0  \n",
      "25%              2.0  \n",
      "50%              2.0  \n",
      "75%              2.0  \n",
      "max              2.0  \n"
     ]
    }
   ],
   "source": [
    "# print(original_df[ (original_df['cluster_group']==0) ].describe())\n",
    "# print(original_df[ (original_df['cluster_group']==1) ].describe())\n",
    "# print(original_df[ (original_df['cluster_group']==4) ].describe())\n",
    "print(original_df[ (original_df['cluster_group']==2) ].describe())"
   ]
  }
 ],
 "metadata": {
  "kernelspec": {
   "display_name": "Python 3",
   "language": "python",
   "name": "python3"
  },
  "language_info": {
   "codemirror_mode": {
    "name": "ipython",
    "version": 3
   },
   "file_extension": ".py",
   "mimetype": "text/x-python",
   "name": "python",
   "nbconvert_exporter": "python",
   "pygments_lexer": "ipython3",
   "version": "3.5.3"
  }
 },
 "nbformat": 4,
 "nbformat_minor": 2
}
